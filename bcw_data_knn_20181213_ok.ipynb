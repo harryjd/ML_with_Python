{
 "cells": [
  {
   "cell_type": "code",
   "execution_count": 1,
   "metadata": {},
   "outputs": [],
   "source": [
    "import pandas as pd\n",
    "import numpy as np"
   ]
  },
  {
   "cell_type": "code",
   "execution_count": 2,
   "metadata": {},
   "outputs": [],
   "source": [
    "def knn_bcw_classify(inX, bcw_dataset, k):\n",
    "    ''' inX是输入的数据；labels是标签，用于监督；k是表示选最近的k个样本 '''\n",
    "    result = []  # 是空列表\n",
    "    # 计算inX与各个监督样本的距离\n",
    "    # print('inX=')\n",
    "    # print(inX)\n",
    "    # print('knn_bcw_classify bcw_dataset=\\n')\n",
    "    # print(bcw_dataset.iloc[:, 1:10])\n",
    "    classify_dist = list((((bcw_dataset.iloc[:, 1:10] - inX)**2).sum(axis=1))**0.5)   # sum()的axis参数=1，表示横向加\n",
    "    classify_dist_with_label = pd.DataFrame({'dist': classify_dist, 'label': (bcw_dataset.iloc[:, 10])})\n",
    "\n",
    "    # 取前k个元素\n",
    "    dr = classify_dist_with_label.sort_values(by='dist')[:k]\n",
    "    re = dr.loc[:, 'label'].value_counts()   # 对dr的label列进行计数统计\n",
    "    result.append(re.index[0])  #只返回可能性最多的分类\n",
    "    return result\n",
    "\n",
    "# ========================================================================\n",
    "# 依照数据的数量，添加对应的Colors列表中的颜色元素\n",
    "def AddColorByClass(Colors, bcw_data):\n",
    "    for i in range(bcw_data.shape[0]):\n",
    "        m = bcw_data.iloc[i, -1]\n",
    "        if m==2:\n",
    "            '''类别是2，是良性肿瘤benign'''\n",
    "            Colors.append('green')\n",
    "        if m==4:\n",
    "            Colors.append('red')"
   ]
  },
  {
   "cell_type": "code",
   "execution_count": 3,
   "metadata": {},
   "outputs": [
    {
     "name": "stdout",
     "output_type": "stream",
     "text": [
      " 准备从数据文件读入数据，并完成归一化 \n",
      "============\n",
      "result= [4]\n"
     ]
    }
   ],
   "source": [
    "# 开始主程序的执行流程 \n",
    "print('准备从数据文件读入数据，是已完成归一化的数据')\n",
    "bcw_data_file = r'bcw_data_normal10.csv'   # r'bcw-train-10.csv'\n",
    "bcw_data = pd.read_csv(bcw_data_file)          # 从文件读取数据\n",
    "bcw_data_arr = bcw_data.values                 # 读取的数据转化成numpy的矩阵numpy.ndarray\n",
    "\n",
    "new_bcw_data = [1, 0.666666667, 0.3333333, 0.25, 1,\n",
    "                0.444444444, 0.714285714, 0.375, 1]\n",
    "\n",
    "Colors = []      # Colors初始为空列表\n",
    "AddColorByClass(Colors, bcw_data)\n",
    "print('============')\n",
    "result = knn_bcw_classify(new_bcw_data, bcw_data, 5)\n",
    "print('result=', result)\n"
   ]
  },
  {
   "cell_type": "code",
   "execution_count": null,
   "metadata": {},
   "outputs": [],
   "source": []
  },
  {
   "cell_type": "code",
   "execution_count": null,
   "metadata": {},
   "outputs": [],
   "source": []
  },
  {
   "cell_type": "code",
   "execution_count": null,
   "metadata": {},
   "outputs": [],
   "source": []
  }
 ],
 "metadata": {
  "kernelspec": {
   "display_name": "Python 3",
   "language": "python",
   "name": "python3"
  },
  "language_info": {
   "codemirror_mode": {
    "name": "ipython",
    "version": 3
   },
   "file_extension": ".py",
   "mimetype": "text/x-python",
   "name": "python",
   "nbconvert_exporter": "python",
   "pygments_lexer": "ipython3",
   "version": "3.6.4"
  }
 },
 "nbformat": 4,
 "nbformat_minor": 2
}
