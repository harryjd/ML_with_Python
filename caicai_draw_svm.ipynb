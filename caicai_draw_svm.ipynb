{
 "cells": [
  {
   "cell_type": "code",
   "execution_count": 93,
   "metadata": {},
   "outputs": [],
   "source": [
    "from sklearn.datasets import make_blobs\n",
    "from sklearn.svm import SVC\n",
    "import matplotlib.pyplot as plt\n",
    "import numpy as np\n",
    "%matplotlib inline"
   ]
  },
  {
   "cell_type": "code",
   "execution_count": 158,
   "metadata": {},
   "outputs": [],
   "source": [
    "#实例化数据集，可视化数据集\n",
    "X, y = make_blobs(n_samples=10, centers=2, random_state=0, cluster_std=0.6)\n"
   ]
  },
  {
   "cell_type": "code",
   "execution_count": 130,
   "metadata": {},
   "outputs": [
    {
     "data": {
      "text/plain": [
       "array([0, 1, 0, 1, 1, 0, 1, 0, 0, 1])"
      ]
     },
     "execution_count": 130,
     "metadata": {},
     "output_type": "execute_result"
    }
   ],
   "source": [
    "y"
   ]
  },
  {
   "cell_type": "code",
   "execution_count": 127,
   "metadata": {
    "scrolled": false
   },
   "outputs": [
    {
     "data": {
      "text/plain": [
       "array([[1.06269622, 5.17635143],\n",
       "       [0.52347363, 1.28983482],\n",
       "       [1.54632313, 4.212973  ],\n",
       "       [2.32158546, 1.09786826],\n",
       "       [2.95171497, 0.7745687 ],\n",
       "       [1.43289271, 4.37679234],\n",
       "       [2.57392924, 0.45236465],\n",
       "       [2.09680487, 3.7174206 ],\n",
       "       [0.91433877, 4.55014643],\n",
       "       [2.24310814, 0.38520622]])"
      ]
     },
     "execution_count": 127,
     "metadata": {},
     "output_type": "execute_result"
    }
   ],
   "source": [
    "X"
   ]
  },
  {
   "cell_type": "code",
   "execution_count": 128,
   "metadata": {},
   "outputs": [
    {
     "data": {
      "image/png": "[encoded data removed]",
      "text/plain": [
       "<Figure size 960x640 with 1 Axes>"
      ]
     },
     "metadata": {
      "needs_background": "light"
     },
     "output_type": "display_data"
    }
   ],
   "source": [
    "plt.figure(figsize=(12,8), dpi=80)\n",
    "plt.scatter(X[:,0], X[:, 1], c=y, s=50, cmap=\"rainbow\")\n",
    "#plt.xticks([])    #取消横坐标轴上的标尺 \n",
    "#plt.yticks([])    #取消纵坐标轴上的标尺 \n",
    "plt.show()"
   ]
  },
  {
   "cell_type": "code",
   "execution_count": 17,
   "metadata": {},
   "outputs": [],
   "source": [
    "seq_a = np.array([[1, 2, 3, 4, 5, 5, 2]])\n",
    "valuecount_a = np.unique(seq_a)"
   ]
  },
  {
   "cell_type": "code",
   "execution_count": 16,
   "metadata": {},
   "outputs": [
    {
     "data": {
      "text/plain": [
       "array([[1, 2, 3, 4, 5]])"
      ]
     },
     "execution_count": 16,
     "metadata": {},
     "output_type": "execute_result"
    }
   ],
   "source": [
    "lim_a.reshape([1,-1])"
   ]
  },
  {
   "cell_type": "code",
   "execution_count": 120,
   "metadata": {},
   "outputs": [],
   "source": [
    "# 演示如何生成 2-维平面上的 点\n",
    "x_ar = np.array([[1, 2, 3]])\n",
    "y_ar = np.array([[5, 7]])\n",
    "\n",
    "x_ar1, y_ar1 = np.meshgrid(x_ar, y_ar)\n",
    "\n",
    "xy_ar1 = np.vstack([y_ar1.ravel(), x_ar1.ravel()])"
   ]
  },
  {
   "cell_type": "code",
   "execution_count": 123,
   "metadata": {},
   "outputs": [
    {
     "data": {
      "text/plain": [
       "array([[5, 5, 5, 7, 7, 7],\n",
       "       [1, 2, 3, 1, 2, 3]])"
      ]
     },
     "execution_count": 123,
     "metadata": {},
     "output_type": "execute_result"
    }
   ],
   "source": [
    "xy_ar1"
   ]
  },
  {
   "cell_type": "code",
   "execution_count": 110,
   "metadata": {},
   "outputs": [
    {
     "data": {
      "text/plain": [
       "array([1, 1, 1, 2, 2, 2])"
      ]
     },
     "execution_count": 110,
     "metadata": {},
     "output_type": "execute_result"
    }
   ],
   "source": [
    "x_ar1.ravel()"
   ]
  },
  {
   "cell_type": "code",
   "execution_count": 121,
   "metadata": {},
   "outputs": [
    {
     "data": {
      "text/plain": [
       "array([[5, 5, 5],\n",
       "       [7, 7, 7]])"
      ]
     },
     "execution_count": 121,
     "metadata": {},
     "output_type": "execute_result"
    }
   ],
   "source": [
    "y_ar1"
   ]
  },
  {
   "cell_type": "code",
   "execution_count": 122,
   "metadata": {},
   "outputs": [
    {
     "data": {
      "text/plain": [
       "array([[1, 2, 3],\n",
       "       [1, 2, 3]])"
      ]
     },
     "execution_count": 122,
     "metadata": {},
     "output_type": "execute_result"
    }
   ],
   "source": [
    "x_ar1"
   ]
  },
  {
   "cell_type": "code",
   "execution_count": null,
   "metadata": {},
   "outputs": [],
   "source": []
  },
  {
   "cell_type": "code",
   "execution_count": 155,
   "metadata": {
    "scrolled": false
   },
   "outputs": [
    {
     "data": {
      "text/plain": [
       "(0.1376003477777803, 5.423957300205297)"
      ]
     },
     "execution_count": 155,
     "metadata": {},
     "output_type": "execute_result"
    },
    {
     "data": {
      "image/png": "[encoded data removed]",
      "text/plain": [
       "<Figure size 960x640 with 1 Axes>"
      ]
     },
     "metadata": {
      "needs_background": "light"
     },
     "output_type": "display_data"
    }
   ],
   "source": [
    "plt.figure(figsize=(12,8), dpi=80)\n",
    "#定义画决策边界的函数\n",
    "#首先要有散点图\n",
    "plt.scatter(X[:,0], X[:, 1], c=y, s=50, cmap=\"rainbow\")\n",
    "ax = plt.gca() #获取当前的子图，如果不存在，则创建新的子图\n",
    "xlim = ax.get_xlim()  # 取得横坐标的取值范围，即 最小值 和 最大值\n",
    "ylim = ax.get_ylim()  #默认创建(0.0, 1.0)区间的横、纵坐标轴\n",
    "\n",
    "#要画决策边界，必须要有网格\n",
    "axisx =np.linspace(xlim[0], xlim[1], 10)   #在横坐标取值范围内生成 N 个值，得到一个1维 数组\n",
    "axisy =np.linspace(ylim[0], ylim[1], 10)\n",
    "\n",
    "#np.meshgrid 将特征向量 转化为 特征矩阵\n",
    "axisy, axisx = np.meshgrid(axisy, axisx)   # axisx成为 30x30 的矩阵，axisy也是\n",
    "\n",
    "#将两个特征向量广播，以便获取y.shape * x.shape 这么多个坐标点的 横、纵坐标\n",
    "xy = np.vstack([axisx.ravel(), axisy.ravel()]).T  # ravel:进行降维，2维 变成 1维\n",
    "# xy就是 各个网格上的点的 坐标对\n",
    "\n",
    "#建模，通过fit计算出对应的决策边界\n",
    "clf = SVC(kernel=\"linear\").fit(X, y)    #训练SVM模型\n",
    "\n",
    "P = clf.decision_function(xy).reshape(axisx.shape)  # P是 xy二维数组代表的点，到决策边界的距离，P也是 10x10 的\n",
    "\n",
    "#clf.decision_function就计算每个样本对应的到决策边界的距离\n",
    "#然后，再这个距离转换为axisx的结构，10 x 10\n",
    "\n",
    "if ax is None:\n",
    "    ax = plt.gca()\n",
    "#画决策边界和平行于决策边界的超平面\n",
    "ax.contour(axisx, axisy, P,\n",
    "           levels=[-1, 0, 1],\n",
    "           colors=\"g\",           \n",
    "           alpha=0.5,                    #设置点的 透明度\n",
    "           linestyles=[\"-\", \"--\", \"-\"])\n",
    "ax.contour(axisx, axisy, P,\n",
    "           levels=[-1.2, 1.2],\n",
    "           colors=\"r\",           \n",
    "           alpha=0.5,                    #设置点的 透明度\n",
    "           linestyles=[\"-\", \"-\"])\n",
    "ax.set_xlim(xlim)\n",
    "ax.set_ylim(ylim)"
   ]
  },
  {
   "cell_type": "code",
   "execution_count": 136,
   "metadata": {},
   "outputs": [
    {
     "data": {
      "text/plain": [
       "(100, 2)"
      ]
     },
     "execution_count": 136,
     "metadata": {},
     "output_type": "execute_result"
    }
   ],
   "source": [
    "xy.shape"
   ]
  },
  {
   "cell_type": "code",
   "execution_count": 142,
   "metadata": {},
   "outputs": [
    {
     "data": {
      "text/plain": [
       "array([[ 1.89878905,  1.44603972,  0.99329039,  0.54054106,  0.08779174,\n",
       "        -0.36495759, -0.81770692, -1.27045625, -1.72320558, -2.17595491],\n",
       "       [ 1.87427073,  1.4215214 ,  0.96877207,  0.51602274,  0.06327341,\n",
       "        -0.38947592, -0.84222525, -1.29497457, -1.7477239 , -2.20047323],\n",
       "       [ 1.8497524 ,  1.39700307,  0.94425375,  0.49150442,  0.03875509,\n",
       "        -0.41399424, -0.86674357, -1.3194929 , -1.77224223, -2.22499156],\n",
       "       [ 1.82523408,  1.37248475,  0.91973542,  0.46698609,  0.01423676,\n",
       "        -0.43851257, -0.89126189, -1.34401122, -1.79676055, -2.24950988],\n",
       "       [ 1.80071575,  1.34796643,  0.8952171 ,  0.44246777, -0.01028156,\n",
       "        -0.46303089, -0.91578022, -1.36852955, -1.82127888, -2.2740282 ],\n",
       "       [ 1.77619743,  1.3234481 ,  0.87069877,  0.41794944, -0.03479989,\n",
       "        -0.48754921, -0.94029854, -1.39304787, -1.8457972 , -2.29854653],\n",
       "       [ 1.75167911,  1.29892978,  0.84618045,  0.39343112, -0.05931821,\n",
       "        -0.51206754, -0.96481687, -1.4175662 , -1.87031552, -2.32306485],\n",
       "       [ 1.72716078,  1.27441145,  0.82166212,  0.36891279, -0.08383653,\n",
       "        -0.53658586, -0.98933519, -1.44208452, -1.89483385, -2.34758318],\n",
       "       [ 1.70264246,  1.24989313,  0.7971438 ,  0.34439447, -0.10835486,\n",
       "        -0.56110419, -1.01385352, -1.46660284, -1.91935217, -2.3721015 ],\n",
       "       [ 1.67812413,  1.2253748 ,  0.77262547,  0.31987615, -0.13287318,\n",
       "        -0.58562251, -1.03837184, -1.49112117, -1.9438705 , -2.39661983]])"
      ]
     },
     "execution_count": 142,
     "metadata": {},
     "output_type": "execute_result"
    }
   ],
   "source": [
    "P"
   ]
  },
  {
   "cell_type": "code",
   "execution_count": 145,
   "metadata": {},
   "outputs": [
    {
     "data": {
      "text/plain": [
       "array([[0.3968343 , 0.3968343 , 0.3968343 , 0.3968343 , 0.3968343 ,\n",
       "        0.3968343 , 0.3968343 , 0.3968343 , 0.3968343 , 0.3968343 ],\n",
       "       [0.69478096, 0.69478096, 0.69478096, 0.69478096, 0.69478096,\n",
       "        0.69478096, 0.69478096, 0.69478096, 0.69478096, 0.69478096],\n",
       "       [0.99272763, 0.99272763, 0.99272763, 0.99272763, 0.99272763,\n",
       "        0.99272763, 0.99272763, 0.99272763, 0.99272763, 0.99272763],\n",
       "       [1.2906743 , 1.2906743 , 1.2906743 , 1.2906743 , 1.2906743 ,\n",
       "        1.2906743 , 1.2906743 , 1.2906743 , 1.2906743 , 1.2906743 ],\n",
       "       [1.58862097, 1.58862097, 1.58862097, 1.58862097, 1.58862097,\n",
       "        1.58862097, 1.58862097, 1.58862097, 1.58862097, 1.58862097],\n",
       "       [1.88656763, 1.88656763, 1.88656763, 1.88656763, 1.88656763,\n",
       "        1.88656763, 1.88656763, 1.88656763, 1.88656763, 1.88656763],\n",
       "       [2.1845143 , 2.1845143 , 2.1845143 , 2.1845143 , 2.1845143 ,\n",
       "        2.1845143 , 2.1845143 , 2.1845143 , 2.1845143 , 2.1845143 ],\n",
       "       [2.48246097, 2.48246097, 2.48246097, 2.48246097, 2.48246097,\n",
       "        2.48246097, 2.48246097, 2.48246097, 2.48246097, 2.48246097],\n",
       "       [2.78040763, 2.78040763, 2.78040763, 2.78040763, 2.78040763,\n",
       "        2.78040763, 2.78040763, 2.78040763, 2.78040763, 2.78040763],\n",
       "       [3.0783543 , 3.0783543 , 3.0783543 , 3.0783543 , 3.0783543 ,\n",
       "        3.0783543 , 3.0783543 , 3.0783543 , 3.0783543 , 3.0783543 ]])"
      ]
     },
     "execution_count": 145,
     "metadata": {},
     "output_type": "execute_result"
    }
   ],
   "source": [
    "axisx"
   ]
  },
  {
   "cell_type": "code",
   "execution_count": 146,
   "metadata": {
    "scrolled": true
   },
   "outputs": [
    {
     "data": {
      "text/plain": [
       "array([[0.13760035, 0.72497334, 1.31234634, 1.89971933, 2.48709233,\n",
       "        3.07446532, 3.66183832, 4.24921131, 4.83658431, 5.4239573 ],\n",
       "       [0.13760035, 0.72497334, 1.31234634, 1.89971933, 2.48709233,\n",
       "        3.07446532, 3.66183832, 4.24921131, 4.83658431, 5.4239573 ],\n",
       "       [0.13760035, 0.72497334, 1.31234634, 1.89971933, 2.48709233,\n",
       "        3.07446532, 3.66183832, 4.24921131, 4.83658431, 5.4239573 ],\n",
       "       [0.13760035, 0.72497334, 1.31234634, 1.89971933, 2.48709233,\n",
       "        3.07446532, 3.66183832, 4.24921131, 4.83658431, 5.4239573 ],\n",
       "       [0.13760035, 0.72497334, 1.31234634, 1.89971933, 2.48709233,\n",
       "        3.07446532, 3.66183832, 4.24921131, 4.83658431, 5.4239573 ],\n",
       "       [0.13760035, 0.72497334, 1.31234634, 1.89971933, 2.48709233,\n",
       "        3.07446532, 3.66183832, 4.24921131, 4.83658431, 5.4239573 ],\n",
       "       [0.13760035, 0.72497334, 1.31234634, 1.89971933, 2.48709233,\n",
       "        3.07446532, 3.66183832, 4.24921131, 4.83658431, 5.4239573 ],\n",
       "       [0.13760035, 0.72497334, 1.31234634, 1.89971933, 2.48709233,\n",
       "        3.07446532, 3.66183832, 4.24921131, 4.83658431, 5.4239573 ],\n",
       "       [0.13760035, 0.72497334, 1.31234634, 1.89971933, 2.48709233,\n",
       "        3.07446532, 3.66183832, 4.24921131, 4.83658431, 5.4239573 ],\n",
       "       [0.13760035, 0.72497334, 1.31234634, 1.89971933, 2.48709233,\n",
       "        3.07446532, 3.66183832, 4.24921131, 4.83658431, 5.4239573 ]])"
      ]
     },
     "execution_count": 146,
     "metadata": {},
     "output_type": "execute_result"
    }
   ],
   "source": [
    "axisy"
   ]
  },
  {
   "cell_type": "code",
   "execution_count": 163,
   "metadata": {},
   "outputs": [
    {
     "data": {
      "image/png": "[encoded data removed]",
      "text/plain": [
       "<Figure size 960x640 with 1 Axes>"
      ]
     },
     "metadata": {
      "needs_background": "light"
     },
     "output_type": "display_data"
    }
   ],
   "source": [
    "# 把绘边界包装成函数\n",
    "def hjd_plot_svc_decision_function(clf_model, plot_ax=None):\n",
    "    if plot_ax is None:\n",
    "        plot_ax = plt.gca() #获取当前的子图，如果不存在，则创建新的子图\n",
    "    xlim = plot_ax.get_xlim()  # 取得横坐标的取值范围，即 最小值 和 最大值\n",
    "    ylim = plot_ax.get_ylim()  #默认创建(0.0, 1.0)区间的横、纵坐标轴\n",
    "\n",
    "    #要画决策边界，必须要有网格\n",
    "    axisx =np.linspace(xlim[0], xlim[1], 20)   #在横坐标取值范围内生成 N 个值，得到一个1维 数组\n",
    "    axisy =np.linspace(ylim[0], ylim[1], 20)\n",
    "\n",
    "    #np.meshgrid 将特征向量 转化为 特征矩阵\n",
    "    axisy, axisx = np.meshgrid(axisy, axisx)   # axisx成为 30x30 的矩阵，axisy也是\n",
    "\n",
    "    #将两个特征向量广播，以便获取y.shape * x.shape 这么多个坐标点的 横、纵坐标\n",
    "    xy = np.vstack([axisx.ravel(), axisy.ravel()]).T  # ravel:进行降维，2维 变成 1维\n",
    "    # xy就是 各个网格上的点的 坐标对\n",
    "\n",
    "    #建模，通过fit计算出对应的决策边界\n",
    "    \n",
    "    P = clf_model.decision_function(xy).reshape(axisx.shape)  # P是 xy二维数组代表的点，到决策边界的距离，P也是 10x10 的\n",
    "\n",
    "    #clf.decision_function就计算每个样本对应的到决策边界的距离\n",
    "    #然后，再这个距离转换为axisx的结构，10 x 10\n",
    "\n",
    "    #画决策边界和平行于决策边界的超平面\n",
    "    plot_ax.contour(axisx, axisy, P,\n",
    "               levels=[-1, 0, 1],\n",
    "               colors=\"g\",           \n",
    "               alpha=0.5,                    #设置点的 透明度\n",
    "               linestyles=[\"-\", \"--\", \"-\"])\n",
    "    #plot_ax.contour(axisx, axisy, P,\n",
    "    #           levels=[-1.2, 1.2],\n",
    "    #           colors=\"r\",           \n",
    "    #           alpha=0.5,                    #设置点的 透明度\n",
    "    #           linestyles=[\"-\", \"-\"])\n",
    "    plot_ax.set_xlim(xlim)\n",
    "    plot_ax.set_ylim(ylim)\n",
    "\n",
    "#__main__\n",
    "plt.figure(figsize=(12,8), dpi=80)\n",
    "#定义画决策边界的函数\n",
    "#首先要有散点图\n",
    "plt.scatter(X[:,0], X[:, 1], c=y, s=50, cmap=\"rainbow\")\n",
    "#建模，通过fit计算出对应的决策边界\n",
    "clf = SVC(kernel=\"linear\").fit(X, y)    #训练SVM模型\n",
    "hjd_plot_svc_decision_function(clf)\n"
   ]
  },
  {
   "cell_type": "code",
   "execution_count": 175,
   "metadata": {},
   "outputs": [],
   "source": [
    "xy_test = np.array([[1, 1],\n",
    "                   [5, 6]])\n",
    "P_test = clf.decision_function(xy_test)"
   ]
  },
  {
   "cell_type": "code",
   "execution_count": 176,
   "metadata": {},
   "outputs": [
    {
     "data": {
      "text/plain": [
       "array([ 1.18441303, -2.99876984])"
      ]
     },
     "execution_count": 176,
     "metadata": {},
     "output_type": "execute_result"
    }
   ],
   "source": [
    "P_test"
   ]
  },
  {
   "cell_type": "code",
   "execution_count": null,
   "metadata": {},
   "outputs": [],
   "source": []
  }
 ],
 "metadata": {
  "kernelspec": {
   "display_name": "Python 3",
   "language": "python",
   "name": "python3"
  },
  "language_info": {
   "codemirror_mode": {
    "name": "ipython",
    "version": 3
   },
   "file_extension": ".py",
   "mimetype": "text/x-python",
   "name": "python",
   "nbconvert_exporter": "python",
   "pygments_lexer": "ipython3",
   "version": "3.6.8"
  }
 },
 "nbformat": 4,
 "nbformat_minor": 2
}
